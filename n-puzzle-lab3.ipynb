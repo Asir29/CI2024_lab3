{
 "cells": [
  {
   "cell_type": "markdown",
   "metadata": {
    "vscode": {
     "languageId": "plaintext"
    }
   },
   "source": [
    "Copyright **`(c)`** 2024 Giovanni Squillero `<giovanni.squillero@polito.it>`  \n",
    "[`https://github.com/squillero/computational-intelligence`](https://github.com/squillero/computational-intelligence)  \n",
    "Free under certain conditions — see the [`license`](https://github.com/squillero/computational-intelligence/blob/master/LICENSE.md) for details.  "
   ]
  },
  {
   "cell_type": "code",
   "execution_count": 1,
   "metadata": {},
   "outputs": [],
   "source": [
    "from collections import namedtuple\n",
    "from random import choice\n",
    "from tqdm.auto import tqdm\n",
    "import numpy as np\n",
    "from icecream import ic\n"
   ]
  },
  {
   "cell_type": "code",
   "execution_count": 2,
   "metadata": {},
   "outputs": [],
   "source": [
    "PUZZLE_DIM = 3\n",
    "action = namedtuple('Action', ['pos1', 'pos2']) \n",
    "#to store a tuple sublass with named fields \n",
    "\n"
   ]
  },
  {
   "cell_type": "code",
   "execution_count": 3,
   "metadata": {},
   "outputs": [],
   "source": [
    "def available_actions(state: np.ndarray) -> list['Action']:\n",
    "    x, y = [int(_[0]) for _ in np.where(state == 0)] # row,column\n",
    "    actions = list()\n",
    "    if x > 0:\n",
    "        actions.append(action((x, y), (x - 1, y)))\n",
    "    if x < PUZZLE_DIM - 1:\n",
    "        actions.append(action((x, y), (x + 1, y)))\n",
    "    if y > 0:\n",
    "        actions.append(action((x, y), (x, y - 1)))\n",
    "    if y < PUZZLE_DIM - 1:\n",
    "        actions.append(action((x, y), (x, y + 1)))\n",
    "    return actions\n",
    "\n",
    "\n",
    "\n",
    "def do_action(state: np.ndarray, action: 'Action') -> np.ndarray:\n",
    "    new_state = state.copy()\n",
    "    new_state[action.pos1], new_state[action.pos2] = new_state[action.pos2], new_state[action.pos1]\n",
    "    return new_state\n",
    "\n",
    "\n"
   ]
  },
  {
   "cell_type": "code",
   "execution_count": 4,
   "metadata": {},
   "outputs": [],
   "source": [
    "import functools\n",
    "\n",
    "\n",
    "def counter(fn):\n",
    "    \"\"\"Simple decorator for counting number of calls\"\"\"\n",
    "\n",
    "    @functools.wraps(fn)\n",
    "    def helper(*args, **kargs):\n",
    "        helper.calls += 1\n",
    "        return fn(*args, **kargs)\n",
    "\n",
    "    helper.calls = 0\n",
    "    return helper\n",
    "\n",
    "\n",
    "def goal_test(state: np.ndarray):\n",
    "    return np.array_equal(state, np.array([i for i in range(1, PUZZLE_DIM**2)] + [0]).reshape((PUZZLE_DIM, PUZZLE_DIM)))\n",
    "\n",
    "@counter\n",
    "def difference_from_goal(state: np.ndarray) -> int:\n",
    "    return np.sum(state != np.array([i for i in range(1, PUZZLE_DIM**2)] + [0]).reshape((PUZZLE_DIM, PUZZLE_DIM)))\n",
    "    \n"
   ]
  },
  {
   "cell_type": "code",
   "execution_count": 5,
   "metadata": {},
   "outputs": [
    {
     "data": {
      "application/vnd.jupyter.widget-view+json": {
       "model_id": "3538ed77bb4e4631882ef1bb8ce1ac3f",
       "version_major": 2,
       "version_minor": 0
      },
      "text/plain": [
       "Randomizing:   0%|          | 0/100000 [00:00<?, ?it/s]"
      ]
     },
     "metadata": {},
     "output_type": "display_data"
    },
    {
     "data": {
      "text/plain": [
       "array([[5, 6, 0],\n",
       "       [2, 4, 1],\n",
       "       [8, 7, 3]])"
      ]
     },
     "execution_count": 5,
     "metadata": {},
     "output_type": "execute_result"
    }
   ],
   "source": [
    "RANDOMIZE_STEPS = 100_000\n",
    "state = np.array([i for i in range(1, PUZZLE_DIM**2)] + [0]).reshape((PUZZLE_DIM, PUZZLE_DIM))\n",
    "for r in tqdm(range(RANDOMIZE_STEPS), desc='Randomizing'):\n",
    "    state = do_action(state, choice(available_actions(state)))\n",
    "state"
   ]
  },
  {
   "cell_type": "code",
   "execution_count": 6,
   "metadata": {},
   "outputs": [
    {
     "name": "stdout",
     "output_type": "stream",
     "text": [
      "Initial State: \n",
      "[[5 6 0]\n",
      " [2 4 1]\n",
      " [8 7 3]]\n",
      "Number of actions evaluated: \n",
      "936\n",
      "Final State:\n",
      "[[1 2 3]\n",
      " [4 5 6]\n",
      " [7 8 0]]\n"
     ]
    }
   ],
   "source": [
    "import heapq\n",
    "\n",
    "BEAM_SIZE = 4\n",
    "\n",
    "priority_queue = []\n",
    "visited = set()\n",
    "\n",
    "# Add the initial state to the queue\n",
    "initial_priority = difference_from_goal(state)\n",
    "heapq.heappush(priority_queue, (initial_priority, tuple(map(tuple, state))))  # Convert initial state to tuple format nparray gives problems\n",
    "\n",
    "print(\"Initial State: \")\n",
    "print(state)\n",
    "\n",
    "while not goal_test(state):\n",
    "    # Only keep the top BEAM_SIZE elements in the queue\n",
    "    if len(priority_queue) > BEAM_SIZE:\n",
    "        priority_queue = heapq.nsmallest(BEAM_SIZE, priority_queue)\n",
    "        heapq.heapify(priority_queue)\n",
    "\n",
    "    # Pop the state with the highest priority (lowest difference from goal)\n",
    "    priority, state_tuple = heapq.heappop(priority_queue)\n",
    "    state = np.array(state_tuple)\n",
    "\n",
    "    # Add to visited to avoid re-processing this state\n",
    "    visited.add(state_tuple)\n",
    "\n",
    "    # Generate new states from the current state\n",
    "    for _ in range(BEAM_SIZE):\n",
    "        new_state = do_action(state, choice(available_actions(state))) #randomly select one possible action between legal ones\n",
    "        new_state_tuple = tuple(map(tuple, new_state)) # heapq doesn't work with nparrays \n",
    "\n",
    "        # Only add the new state if it hasn't been visited\n",
    "        if new_state_tuple not in visited:\n",
    "            heapq.heappush(priority_queue, (difference_from_goal(new_state), new_state_tuple))\n",
    "\n",
    "# Final output\n",
    "print(\"Number of actions evaluated: \")\n",
    "print(difference_from_goal.calls)\n",
    "\n",
    "print(\"Final State:\")\n",
    "print(state)\n",
    "\n"
   ]
  }
 ],
 "metadata": {
  "kernelspec": {
   "display_name": "Python 3",
   "language": "python",
   "name": "python3"
  },
  "language_info": {
   "codemirror_mode": {
    "name": "ipython",
    "version": 3
   },
   "file_extension": ".py",
   "mimetype": "text/x-python",
   "name": "python",
   "nbconvert_exporter": "python",
   "pygments_lexer": "ipython3",
   "version": "3.11.3"
  }
 },
 "nbformat": 4,
 "nbformat_minor": 2
}
